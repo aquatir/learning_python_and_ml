{
 "cells": [
  {
   "cell_type": "markdown",
   "metadata": {},
   "source": [
    "## Read file and lower each line"
   ]
  },
  {
   "cell_type": "code",
   "execution_count": 2,
   "metadata": {
    "collapsed": false
   },
   "outputs": [
    {
     "name": "stdout",
     "output_type": "stream",
     "text": [
      "In comparison to dogs, cats have not undergone major changes during the domestication process.\r\n",
      "As cat simply catenates streams of bytes, it can be also used to concatenate binary files, where it will just concatenate sequence of bytes.\r\n",
      "A common interactive use of cat for a single file is to output the content of a file to standard output.\r\n",
      "Cats can hear sounds too faint or too high in frequency for human ears, such as those made by mice and other small animals.\r\n",
      "In one, people deliberately tamed cats in a process of artificial selection, as they were useful predators of vermin.\r\n",
      "The domesticated cat and its closest wild ancestor are both diploid organisms that possess 38 chromosomes and roughly 20,000 genes.\r\n",
      "Domestic cats are similar in size to the other members of the genus Felis, typically weighing between 4 and 5 kg (8.8 and 11.0 lb).\r\n",
      "However, if the output is piped or redirected, cat is unnecessary.\r\n",
      "cat with one named file is safer where human error is a concern - one wrong use of the default redirection symbol \">\" instead of \"<\" (often adjacent on keyboards) may permanently delete the file you were just needing to read.\r\n",
      "In terms of legibility, a sequence of commands starting with cat and connected by pipes has a clear left-to-right flow of information.\r\n",
      "Cat command is one of the basic commands that you learned when you started in the Unix / Linux world.\r\n",
      "Using cat command, the lines received from stdin can be redirected to a new file using redirection symbols.\r\n",
      "When you type simply cat command without any arguments, it just receives the stdin content and displays it in the stdout.\r\n",
      "Leopard was released on October 26, 2007 as the successor of Tiger (version 10.4), and is available in two editions.\r\n",
      "According to Apple, Leopard contains over 300 changes and enhancements over its predecessor, Mac OS X Tiger.\r\n",
      "As of Mid 2010, some Apple computers have firmware factory installed which will no longer allow installation of Mac OS X Leopard.\r\n",
      "Since Apple moved to using Intel processors in their computers, the OSx86 community has developed and now also allows Mac OS X Tiger and later releases to be installed on non-Apple x86-based computers.\r\n",
      "OS X Mountain Lion was released on July 25, 2012 for purchase and download through Apple's Mac App Store, as part of a switch to releasing OS X versions online and every year.\r\n",
      "Apple has released a small patch for the three most recent versions of Safari running on OS X Yosemite, Mavericks, and Mountain Lion.\r\n",
      "The Mountain Lion release marks the second time Apple has offered an incremental upgrade, rather than releasing a new cat entirely.\r\n",
      "Mac OS X Mountain Lion installs in place, so you won't need to create a separate disk or run the installation off an external drive.\r\n",
      "The fifth major update to Mac OS X, Leopard, contains such a mountain of features - more than 300 by Apple's count.\r\n",
      "\r\n"
     ]
    }
   ],
   "source": [
    "sentences_file = open(\"sentences.txt\")\n",
    "sentences = sentences_file.read()\n",
    "sentences = sentences.lower()\n",
    "\n",
    "sentences_by_lines = sentences.split('\\n')\n",
    "is_not_empty = lambda x: x != ''\n",
    "sentences_by_lines = filter(is_not_empty, sentences_by_lines)\n",
    "\n",
    "sentences_file.close()\n",
    "!cat sentences.txt"
   ]
  },
  {
   "cell_type": "markdown",
   "metadata": {},
   "source": [
    "## Split by words"
   ]
  },
  {
   "cell_type": "code",
   "execution_count": 4,
   "metadata": {
    "collapsed": false
   },
   "outputs": [],
   "source": [
    "import re\n",
    "\n",
    "words = re.split(\"[^a-z]\", sentences)\n",
    "words = filter(is_not_empty, words)"
   ]
  },
  {
   "cell_type": "markdown",
   "metadata": {},
   "source": [
    "## Create dictionary with number of entries for each word"
   ]
  },
  {
   "cell_type": "code",
   "execution_count": 5,
   "metadata": {
    "collapsed": false
   },
   "outputs": [
    {
     "name": "stdout",
     "output_type": "stream",
     "text": [
      "num of words:     254\n",
      "num of sentences: 22\n"
     ]
    }
   ],
   "source": [
    "word_dict = dict()\n",
    "for word in words:\n",
    "    if word in word_dict:\n",
    "        word_dict[word] = word_dict[word] + 1\n",
    "    else:\n",
    "        word_dict[word] = 1\n",
    "print \"num of words:     \" + str(len(word_dict))\n",
    "print \"num of sentences: \" + str(len(sentences_by_lines))"
   ]
  },
  {
   "cell_type": "code",
   "execution_count": 10,
   "metadata": {
    "collapsed": false
   },
   "outputs": [],
   "source": [
    "import numpy \n",
    "from scipy import spatial"
   ]
  },
  {
   "cell_type": "code",
   "execution_count": 11,
   "metadata": {
    "collapsed": false
   },
   "outputs": [],
   "source": [
    "indexed_words = word_dict.keys()"
   ]
  },
  {
   "cell_type": "code",
   "execution_count": 12,
   "metadata": {
    "collapsed": false
   },
   "outputs": [],
   "source": [
    "sentences_words_matrix = numpy.zeros(shape=(len(sentences_by_lines), len(word_dict)))\n",
    "for i in range (0, len(sentences_by_lines)):\n",
    "    words_in_line = re.split(\"[^a-z]\", sentences_by_lines[i])\n",
    "    words_in_line = filter(is_not_empty, words_in_line)\n",
    "    for j in range (0, len(indexed_words)):\n",
    "        sentences_words_matrix[i,j] = 0\n",
    "        for k in range(0, len(words_in_line)):\n",
    "            if words_in_line[k] == indexed_words[j]:\n",
    "                sentences_words_matrix[i,j] = sentences_words_matrix[i,j] + 1"
   ]
  },
  {
   "cell_type": "code",
   "execution_count": 27,
   "metadata": {
    "collapsed": false
   },
   "outputs": [
    {
     "name": "stdout",
     "output_type": "stream",
     "text": [
      "sort in this order: ['0' '6' '4' '21' '10' '12' '16' '20' '2' '13' '14' '11' '8' '19' '3' '9'\n",
      " '7' '5' '15' '18' '1' '17']\n",
      "0. in comparison to dogs, cats have not undergone major changes during the domestication process.\n",
      "6. domestic cats are similar in size to the other members of the genus felis, typically weighing between 4 and 5 kg (8.8 and 11.0 lb).\n",
      "4. in one, people deliberately tamed cats in a process of artificial selection, as they were useful predators of vermin.\n",
      "21. the fifth major update to mac os x, leopard, contains such a mountain of features - more than 300 by apple's count.\n",
      "10. cat command is one of the basic commands that you learned when you started in the unix / linux world.\n",
      "12. when you type simply cat command without any arguments, it just receives the stdin content and displays it in the stdout.\n",
      "16. since apple moved to using intel processors in their computers, the osx86 community has developed and now also allows mac os x tiger and later releases to be installed on non-apple x86-based computers.\n",
      "20. mac os x mountain lion installs in place, so you won't need to create a separate disk or run the installation off an external drive.\n",
      "2. a common interactive use of cat for a single file is to output the content of a file to standard output.\n",
      "13. leopard was released on october 26, 2007 as the successor of tiger (version 10.4), and is available in two editions.\n",
      "14. according to apple, leopard contains over 300 changes and enhancements over its predecessor, mac os x tiger.\n",
      "11. using cat command, the lines received from stdin can be redirected to a new file using redirection symbols.\n",
      "8. cat with one named file is safer where human error is a concern - one wrong use of the default redirection symbol \">\" instead of \"<\" (often adjacent on keyboards) may permanently delete the file you were just needing to read.\n",
      "19. the mountain lion release marks the second time apple has offered an incremental upgrade, rather than releasing a new cat entirely.\n",
      "3. cats can hear sounds too faint or too high in frequency for human ears, such as those made by mice and other small animals.\n",
      "9. in terms of legibility, a sequence of commands starting with cat and connected by pipes has a clear left-to-right flow of information.\n",
      "7. however, if the output is piped or redirected, cat is unnecessary.\n",
      "5. the domesticated cat and its closest wild ancestor are both diploid organisms that possess 38 chromosomes and roughly 20,000 genes.\n",
      "15. as of mid 2010, some apple computers have firmware factory installed which will no longer allow installation of mac os x leopard.\n",
      "18. apple has released a small patch for the three most recent versions of safari running on os x yosemite, mavericks, and mountain lion.\n",
      "1. as cat simply catenates streams of bytes, it can be also used to concatenate binary files, where it will just concatenate sequence of bytes.\n",
      "17. os x mountain lion was released on july 25, 2012 for purchase and download through apple's mac app store, as part of a switch to releasing os x versions online and every year.\n"
     ]
    }
   ],
   "source": [
    "sentences_by_lines_as_vector =  numpy.array(\n",
    "    [range(0,len(sentences_by_lines))\n",
    "    ,sentences_by_lines\n",
    "    , [0.0] * len(sentences_by_lines)])\n",
    "\n",
    "for i in range (0, len(sentences_by_lines)):\n",
    "    sentences_by_lines_as_vector[2][i] = spatial.distance.cosine(sentences_words_matrix[0], sentences_words_matrix[i])\n",
    "\n",
    "\n",
    "# This can be simplified but the way we do it also wo\n",
    "sentences_by_lines_as_vector = sentences_by_lines_as_vector.T\n",
    "sentences_by_lines_as_vector[:,2] = sentences_by_lines_as_vector[:,2].astype('float')\n",
    "sentences_by_lines_as_vector = sentences_by_lines_as_vector[sentences_by_lines_as_vector[:,2].argsort()]\n",
    "print \"sort in this order: \" + str(sentences_by_lines_as_vector[:,0])\n",
    "for i in sentences_by_lines_as_vector[:,0]:\n",
    "    print i + \". \" + sentences_by_lines[numpy.int(i)]"
   ]
  }
 ],
 "metadata": {
  "kernelspec": {
   "display_name": "Python 2",
   "language": "python",
   "name": "python2"
  },
  "language_info": {
   "codemirror_mode": {
    "name": "ipython",
    "version": 2
   },
   "file_extension": ".py",
   "mimetype": "text/x-python",
   "name": "python",
   "nbconvert_exporter": "python",
   "pygments_lexer": "ipython2",
   "version": "2.7.13"
  }
 },
 "nbformat": 4,
 "nbformat_minor": 0
}
