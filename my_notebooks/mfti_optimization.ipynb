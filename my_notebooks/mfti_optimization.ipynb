{
 "cells": [
  {
   "cell_type": "code",
   "execution_count": 70,
   "metadata": {
    "collapsed": true
   },
   "outputs": [],
   "source": [
    "import numpy as np\n",
    "from matplotlib import pyplot\n",
    "from scipy import optimize\n",
    "import math"
   ]
  },
  {
   "cell_type": "code",
   "execution_count": 71,
   "metadata": {
    "collapsed": true
   },
   "outputs": [],
   "source": [
    "%matplotlib inline"
   ]
  },
  {
   "cell_type": "markdown",
   "metadata": {},
   "source": [
    "# Минимизация гладкой функции методом градиента"
   ]
  },
  {
   "cell_type": "code",
   "execution_count": 72,
   "metadata": {
    "collapsed": true
   },
   "outputs": [],
   "source": [
    "def sup(x):\n",
    "    return math.sin(x/5.) * math.exp(x/10.) + 5 * math.exp(-x / 2.)\n",
    "f = np.vectorize(sup)"
   ]
  },
  {
   "cell_type": "code",
   "execution_count": 73,
   "metadata": {
    "collapsed": false
   },
   "outputs": [
    {
     "name": "stdout",
     "output_type": "stream",
     "text": [
      "      fun: array([ 1.91509482])\n",
      " hess_inv: array([[-25.29296761]])\n",
      "      jac: array([ 0.16954906])\n",
      "  message: 'Desired error not necessarily achieved due to precision loss.'\n",
      "     nfev: 60\n",
      "      nit: 1\n",
      "     njev: 16\n",
      "   status: 2\n",
      "  success: False\n",
      "        x: array([ 5.81497192])\n"
     ]
    }
   ],
   "source": [
    "print optimize.minimize(f, 10)"
   ]
  },
  {
   "cell_type": "code",
   "execution_count": 74,
   "metadata": {
    "collapsed": false
   },
   "outputs": [
    {
     "name": "stdout",
     "output_type": "stream",
     "text": [
      "      fun: 1.7452682903449388\n",
      " hess_inv: array([[ 5.98752437]])\n",
      "      jac: array([ -2.07126141e-06])\n",
      "  message: 'Optimization terminated successfully.'\n",
      "     nfev: 21\n",
      "      nit: 6\n",
      "     njev: 7\n",
      "   status: 0\n",
      "  success: True\n",
      "        x: array([ 4.13627618])\n",
      "---------------------------------------------\n",
      "      fun: -11.898894665981265\n",
      " hess_inv: array([[ 1.67840334]])\n",
      "      jac: array([  1.19209290e-07])\n",
      "  message: 'Optimization terminated successfully.'\n",
      "     nfev: 18\n",
      "      nit: 5\n",
      "     njev: 6\n",
      "   status: 0\n",
      "  success: True\n",
      "        x: array([ 25.88019347])\n"
     ]
    }
   ],
   "source": [
    "print optimize.minimize(f, 2, method=\"BFGS\")\n",
    "print \"---------------------------------------------\"\n",
    "print optimize.minimize(f, 30, method=\"BFGS\")"
   ]
  },
  {
   "cell_type": "code",
   "execution_count": 75,
   "metadata": {
    "collapsed": false
   },
   "outputs": [
    {
     "data": {
      "image/png": "[encoded data removed]",
      "text/plain": [
       "<matplotlib.figure.Figure at 0x7f6c30078350>"
      ]
     },
     "metadata": {},
     "output_type": "display_data"
    }
   ],
   "source": [
    "x = np.arange(0,31)\n",
    "y = f(x)\n",
    "pyplot.plot(x,y,'-')\n",
    "pyplot.show()"
   ]
  },
  {
   "cell_type": "markdown",
   "metadata": {},
   "source": [
    "# Глобальная оптимизация (минимизация)"
   ]
  },
  {
   "cell_type": "code",
   "execution_count": 99,
   "metadata": {
    "collapsed": false
   },
   "outputs": [
    {
     "name": "stdout",
     "output_type": "stream",
     "text": [
      "     fun: array([-11.89889467])\n",
      "     jac: array([  4.26325641e-06])\n",
      " message: 'Optimization terminated successfully.'\n",
      "    nfev: 96\n",
      "     nit: 5\n",
      " success: True\n",
      "       x: array([ 25.88019996])\n"
     ]
    }
   ],
   "source": [
    "print optimize.differential_evolution(f, [(0,30)])"
   ]
  },
  {
   "cell_type": "markdown",
   "metadata": {},
   "source": [
    "# Глобальная оптимизация негладкой функции"
   ]
  },
  {
   "cell_type": "code",
   "execution_count": 77,
   "metadata": {
    "collapsed": true
   },
   "outputs": [],
   "source": [
    "def sup2(x):\n",
    "    return int(sup(x))"
   ]
  },
  {
   "cell_type": "code",
   "execution_count": 78,
   "metadata": {
    "collapsed": true
   },
   "outputs": [],
   "source": [
    "h = np.vectorize(sup2)"
   ]
  },
  {
   "cell_type": "code",
   "execution_count": 79,
   "metadata": {
    "collapsed": true
   },
   "outputs": [],
   "source": [
    "x_2 = np.arange(0,31)\n",
    "y_2 = h(x_2)"
   ]
  },
  {
   "cell_type": "code",
   "execution_count": 85,
   "metadata": {
    "collapsed": false
   },
   "outputs": [
    {
     "name": "stdout",
     "output_type": "stream",
     "text": [
      "      fun: array([-11])\n",
      " hess_inv: array([[1]])\n",
      "      jac: array([ 0.])\n",
      "  message: 'Optimization terminated successfully.'\n",
      "     nfev: 3\n",
      "      nit: 0\n",
      "     njev: 1\n",
      "   status: 0\n",
      "  success: True\n",
      "        x: array([ 27.])\n"
     ]
    }
   ],
   "source": [
    "print optimize.minimize(h, 27, method=\"BFGS\")"
   ]
  },
  {
   "cell_type": "code",
   "execution_count": 81,
   "metadata": {
    "collapsed": false
   },
   "outputs": [
    {
     "name": "stdout",
     "output_type": "stream",
     "text": [
      "     fun: -11.0\n",
      " message: 'Optimization terminated successfully.'\n",
      "    nfev: 92\n",
      "     nit: 5\n",
      " success: True\n",
      "       x: array([ 27.09149308])\n"
     ]
    }
   ],
   "source": [
    "print optimize.differential_evolution(h, [(0,30)])"
   ]
  },
  {
   "cell_type": "code",
   "execution_count": 98,
   "metadata": {
    "collapsed": false
   },
   "outputs": [
    {
     "data": {
      "image/png": "[encoded data removed]",
      "text/plain": [
       "<matplotlib.figure.Figure at 0x7f6c2a3aaf50>"
      ]
     },
     "metadata": {},
     "output_type": "display_data"
    }
   ],
   "source": [
    "pyplot.plot(x_2, y_2, 'o')\n",
    "pyplot.show()"
   ]
  }
 ],
 "metadata": {
  "kernelspec": {
   "display_name": "Python 2",
   "language": "python",
   "name": "python2"
  },
  "language_info": {
   "codemirror_mode": {
    "name": "ipython",
    "version": 2
   },
   "file_extension": ".py",
   "mimetype": "text/x-python",
   "name": "python",
   "nbconvert_exporter": "python",
   "pygments_lexer": "ipython2",
   "version": "2.7.13"
  }
 },
 "nbformat": 4,
 "nbformat_minor": 0
}
